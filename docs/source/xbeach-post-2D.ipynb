{
 "cells": [
  {
   "attachments": {},
   "cell_type": "markdown",
   "metadata": {},
   "source": [
    "## Postprocessing XBeach 2D\n",
    "\n",
    "Postprocessing 2D XBeach model output with the Python toolbox "
   ]
  },
  {
   "cell_type": "code",
   "execution_count": 3,
   "metadata": {},
   "outputs": [],
   "source": [
    "# import default modules\n",
    "import matplotlib.pyplot as plt\n",
    "import sys\n",
    "import os\n",
    "\n",
    "# method to import xbtools with try routine\n",
    "try:\n",
    "    import xbTools\n",
    "except ImportError:\n",
    "    print('**no xbTools installation found in environment, adding parent path of notebook to see if it works')\n",
    "    sys.path.append(os.path.abspath(os.path.join('..', '..', 'xbeach-toolbox')))"
   ]
  },
  {
   "attachments": {},
   "cell_type": "markdown",
   "metadata": {},
   "source": [
    "Import the toolbox and set the xbeach styleshoot for plotting"
   ]
  },
  {
   "cell_type": "code",
   "execution_count": 4,
   "metadata": {},
   "outputs": [],
   "source": [
    "## import xbeach tools\n",
    "#sys.path.append(os.path.abspath(os.path.join('..')))\n",
    "from xbTools.xbeachpost import XBeachModelAnalysis"
   ]
  },
  {
   "attachments": {},
   "cell_type": "markdown",
   "metadata": {},
   "source": [
    "### Data\n",
    "Specify path and load model from folder, in this example the xb-2D model prepared by the xbeach-setup-2D is used!\n",
    "\n",
    "Please note that you should run this model before this script can be executed."
   ]
  },
  {
   "cell_type": "code",
   "execution_count": 5,
   "metadata": {},
   "outputs": [],
   "source": [
    "results = XBeachModelAnalysis('test_run_1', 'xb-2D\\\\')"
   ]
  },
  {
   "cell_type": "markdown",
   "metadata": {},
   "source": [
    "### Get metadata from XBlog"
   ]
  },
  {
   "cell_type": "code",
   "execution_count": 6,
   "metadata": {},
   "outputs": [
    {
     "data": {
      "text/plain": [
       "{'wavemodel': 'surfbeat',\n",
       " 'cyclic': '0 (no record found, default value used)',\n",
       " 'swave': '1 (no record found, default value used)',\n",
       " 'single_dir': '1 (no record found, default value used)',\n",
       " 'lwave': '1 (no record found, default value used)',\n",
       " 'flow': '1 (no record found, default value used)',\n",
       " 'sedtrans': '1 (no record found, default value used)',\n",
       " 'morphology': '0',\n",
       " 'avalanching': '0 (no record found, default value used)',\n",
       " 'gwflow': '0 (no record found, default value used)',\n",
       " 'ships': '0 (no record found, default value used)',\n",
       " 'vegetation': '0 (no record found, default value used)',\n",
       " 'setbathy': '0 (no record found, default value used)',\n",
       " 'viscosity': '1 (no record found, default value used)',\n",
       " 'advection': '1 (no record found, default value used)',\n",
       " 'wind': '0 (no record found, default value used)',\n",
       " 'gridform': 'xbeach (no record found, default value used)',\n",
       " 'xori': '.0000',\n",
       " 'yori': '.0000',\n",
       " 'alfa': '10.0000',\n",
       " 'nx': '174',\n",
       " 'ny': '180',\n",
       " 'posdwn': '-1.0000',\n",
       " 'depfile': 'bed.dep',\n",
       " 'vardx': '1',\n",
       " 'dx': '-1.0000 (no record found, default value used)',\n",
       " 'dy': '-1.0000 (no record found, default value used)',\n",
       " 'xfile': 'x.grd',\n",
       " 'yfile': 'y.grd',\n",
       " 'nz': '1 (no record found, default value used)',\n",
       " 'thetamin': '-90.0000',\n",
       " 'thetamax': '90.0000',\n",
       " 'thetanaut': '0',\n",
       " 'r': ' 1',\n",
       " 'dtheta_s': '10.0000',\n",
       " 'CFL': '.7000 (no record found, default value used)',\n",
       " 'dtset': '.0000 (no record found, default value used)',\n",
       " 'tstop': '3600.0000',\n",
       " 'maxdtfac': '50.0000 (no record found, default value used)',\n",
       " 'rho': '1025.0000 (no record found, default value used)',\n",
       " 'g': '9.8100 (no record found, default value used)',\n",
       " 'depthscale': '1.0000 (no record found, default value used)',\n",
       " 'zsinitfile': ' None specified',\n",
       " 'wbctype': 'jonstable',\n",
       " 'bcfile': 'jonstable.txt',\n",
       " 'taper': '100.0000 (no record found, default value used)',\n",
       " 'nmax': '.8000 (no record found, default value used)',\n",
       " 'nonhspectrum': '0 (no record found, default value used)',\n",
       " 'Hrms': '1.0000 (no record found, default value used)',\n",
       " 'Tm01': '10.0000 (no record found, default value used)',\n",
       " 'Trep': '10.0000 (no record found, default value used)',\n",
       " 'dir0': '270.0000 (no record found, default value used)',\n",
       " 'm': '10 (no record found, default value used)',\n",
       " 'lateralwave': 'neumann (no record found, default value used)',\n",
       " 'random': '1 (no record found, default value used)',\n",
       " 'fcutoff': '.0000 (no record found, default value used)',\n",
       " 'trepfac': '.0100 (no record found, default value used)',\n",
       " 'sprdthr': '.0800 (no record found, default value used)',\n",
       " 'Tm01switch': '0 (no record found, default value used)',\n",
       " 'nspectrumloc': '1 (no record found, default value used)',\n",
       " 'wbcEvarreduce': '1.0000 (no record found, default value used)',\n",
       " 'front': 'abs_2d (no record found, default value used)',\n",
       " 'left': 'neumann (no record found, default value used)',\n",
       " 'right': 'neumann (no record found, default value used)',\n",
       " 'back': 'abs_2d (no record found, default value used)',\n",
       " 'ARC': '1 (no record found, default value used)',\n",
       " 'order': '2.0000 (no record found, default value used)',\n",
       " 'highcomp': '0 (no record found, default value used)',\n",
       " 'freewave': '0 (no record found, default value used)',\n",
       " 'epsi': '-1.0000 (no record found, default value used)',\n",
       " 'tidetype': 'velocity (no record found, default value used)',\n",
       " 'tideloc': '0 (no record found, default value used)',\n",
       " 'zs0': '.0000',\n",
       " 'disch_loc_file': ' None specified',\n",
       " 'disch_timeseries_file': ' None specified',\n",
       " 'ndischarge': '0 (no record found, default value used)',\n",
       " 'ntdischarge': '0 (no record found, default value used)',\n",
       " 'break': 'roelvink_daly (no record found, default value used)',\n",
       " 'gamma': '.4600 (no record found, default value used)',\n",
       " 'gamma2': '.3400 (no record found, default value used)',\n",
       " 'gammax': '2.0000 (no record found, default value used)',\n",
       " 'alpha': '1.3800 (no record found, default value used)',\n",
       " 'n': '10.0000 (no record found, default value used)',\n",
       " 'delta': '.0000 (no record found, default value used)',\n",
       " 'deltahmin': '.1000 (no record found, default value used)',\n",
       " 'fw': '.0000 (no record found, default value used)',\n",
       " 'fwfile': ' None specified',\n",
       " 'fwcutoff': '1000.0000 (no record found, default value used)',\n",
       " 'breakerdelay': '1.0000 (no record found, default value used)',\n",
       " 'roller': '1 (no record found, default value used)',\n",
       " 'rfb': '0 (no record found, default value used)',\n",
       " 'beta': '.0800 (no record found, default value used)',\n",
       " 'wci': '0 (no record found, default value used)',\n",
       " 'hwci': '.1000 (no record found, default value used)',\n",
       " 'hwcimax': '100.0000 (no record found, default value used)',\n",
       " 'cats': '4.0000 (no record found, default value used)',\n",
       " 'bedfriction': 'manning (no record found, default value used)',\n",
       " 'bedfricfile': ' None specified',\n",
       " 'bedfriccoef': '.0200 (no record found, default value used)',\n",
       " 'maxcf': '.0400 (no record found, default value used)',\n",
       " 'nuh': '.1000 (no record found, default value used)',\n",
       " 'nuhfac': '.0000 (no record found, default value used)',\n",
       " 'smag': '1 (no record found, default value used)',\n",
       " 'wearth': '.0417 (no record found, default value used)',\n",
       " 'lat': '.0000 (no record found, default value used)',\n",
       " 'form': 'vanthiel_vanrijn (no record found, default value use',\n",
       " 'waveform': 'vanthiel (no record found, default value used)',\n",
       " 'sws': '1 (no record found, default value used)',\n",
       " 'lws': '1 (no record found, default value used)',\n",
       " 'BRfac': '1.0000 (no record found, default value used)',\n",
       " 'facSk': '.1500 (no record found, default value used)',\n",
       " 'facAs': '.2000 (no record found, default value used)',\n",
       " 'facua': '.1750 (no record found, default value used)',\n",
       " 'Tbfac': '1.0000 (no record found, default value used)',\n",
       " 'turb': 'bore_averaged (no record found, default value used)',\n",
       " 'turbadv': 'none (no record found, default value used)',\n",
       " 'sus': '1 (no record found, default value used)',\n",
       " 'bed': '1 (no record found, default value used)',\n",
       " 'bulk': '0 (no record found, default value used)',\n",
       " 'facsl': '.1500 (no record found, default value used)',\n",
       " 'z0': '.0060 (no record found, default value used)',\n",
       " 'smax': '-1.0000 (no record found, default value used)',\n",
       " 'bdslpeffmag': 'roelvink_total (no record found, default value used)',\n",
       " 'bdslpeffini': 'none (no record found, default value used)',\n",
       " 'bdslpeffdir': 'none (no record found, default value used)',\n",
       " 'reposeangle': '30.0000 (no record found, default value used)',\n",
       " 'tsfac': '.1000 (no record found, default value used)',\n",
       " 'Tsmin': '.5000 (no record found, default value used)',\n",
       " 'facDc': '1.0000 (no record found, default value used)',\n",
       " 'lwt': '0 (no record found, default value used)',\n",
       " 'betad': '1.0000 (no record found, default value used)',\n",
       " 'fallvelred': '0 (no record found, default value used)',\n",
       " 'dilatancy': '0 (no record found, default value used)',\n",
       " 'alfaD50': '.4000 (no record found, default value used)',\n",
       " 'ngd': '1 (no record found, default value used)',\n",
       " 'nd': '3 (no record found, default value used)',\n",
       " 'por': '.4000 (no record found, default value used)',\n",
       " 'D50': '.0002 (no record found, default value used)',\n",
       " 'D90': '.0003 (no record found, default value used)',\n",
       " 'rhos': '2650.0000 (no record found, default value used)',\n",
       " 'dzg': '.1000 (no record found, default value used)',\n",
       " 'dzg1': '.1000 (no record found, default value used)',\n",
       " 'dzg2': '.1000 (no record found, default value used)',\n",
       " 'dzg3': '.1000 (no record found, default value used)',\n",
       " 'sedcal': '1.0000 (no record found, default value used)',\n",
       " 'ucrcal': '1.0000 (no record found, default value used)',\n",
       " 'timings': '1 (no record found, default value used)',\n",
       " 'tunits': ' None specified',\n",
       " 'tstart': '.0000 (no record found, default value used)',\n",
       " 'tint': '900.0000 (no record found, default value used)',\n",
       " 'tsglobal': ' None specified',\n",
       " 'tintg': '900.0000 (no record found, default value used)',\n",
       " 'tspoints': ' None specified',\n",
       " 'tintp': '1.0000 (no record found, default value used)',\n",
       " 'tsmean': ' None specified',\n",
       " 'tintm': '3600.0000 (no record found, default value used)',\n",
       " 'nglobalvar': '3',\n",
       " 'npoints': '4',\n",
       " 'nrugauge': '0 (no record found, default value used)',\n",
       " 'npointvar': '2',\n",
       " 'nrugdepth': '1 (no record found, default value used)',\n",
       " 'rugdepth': '.0000 (no record found, default value used)',\n",
       " 'nmeanvar': '1',\n",
       " 'outputformat': 'netcdf (no record found, default value used)',\n",
       " 'outputprecision': 'double (no record found, default value used)',\n",
       " 'ncfilename': ' None specified',\n",
       " 'remdryoutput': '1 (no record found, default value used)',\n",
       " 'projection': ' None specified',\n",
       " 'rotate': '1 (no record found, default value used)',\n",
       " 'scheme': 'warmbeam (no record found, default value used)',\n",
       " 'wavint': '600.0000 (no record found, default value used)',\n",
       " 'maxerror': '.0001 (no record found, default value used)',\n",
       " 'maxerror_angle': '1.0000 (no record found, default value used)',\n",
       " 'maxiter': '500 (no record found, default value used)',\n",
       " 'truncationtype': 'absolute (no record found, default value used)',\n",
       " 'eps': '.0050 (no record found, default value used)',\n",
       " 'eps_sd': '.5000 (no record found, default value used)',\n",
       " 'umin': '.0000 (no record found, default value used)',\n",
       " 'secorder': '0 (no record found, default value used)',\n",
       " 'thetanum': '1.0000 (no record found, default value used)',\n",
       " 'cmax': '.1000 (no record found, default value used)',\n",
       " 'dtlimTs': '5.0000 (no record found, default value used)'}"
      ]
     },
     "execution_count": 6,
     "metadata": {},
     "output_type": "execute_result"
    }
   ],
   "source": [
    "results.metadata"
   ]
  },
  {
   "attachments": {},
   "cell_type": "markdown",
   "metadata": {},
   "source": [
    "### Additional settings\n",
    "Not necessary"
   ]
  },
  {
   "cell_type": "code",
   "execution_count": 7,
   "metadata": {},
   "outputs": [],
   "source": [
    "results.set_save_fig(False)"
   ]
  },
  {
   "attachments": {},
   "cell_type": "markdown",
   "metadata": {},
   "source": [
    "### Coordinate settings\n",
    "Plot in local coords instead of global coords"
   ]
  },
  {
   "cell_type": "code",
   "execution_count": 8,
   "metadata": {},
   "outputs": [],
   "source": [
    "results.set_plot_localcoords(False)"
   ]
  },
  {
   "attachments": {},
   "cell_type": "markdown",
   "metadata": {},
   "source": [
    "### Kilometer setting option\n",
    "plot in kilometers instead of m"
   ]
  },
  {
   "cell_type": "code",
   "execution_count": 9,
   "metadata": {},
   "outputs": [],
   "source": [
    "results.set_plot_km_coords(False)"
   ]
  },
  {
   "attachments": {},
   "cell_type": "markdown",
   "metadata": {},
   "source": [
    "### Set starttime\n",
    "if not specified time from netcdf is used"
   ]
  },
  {
   "cell_type": "code",
   "execution_count": 8,
   "metadata": {},
   "outputs": [],
   "source": [
    "#results.set_globalstarttime('2021-10-11T13:00:00')"
   ]
  },
  {
   "attachments": {},
   "cell_type": "markdown",
   "metadata": {},
   "source": [
    "### Change units\n",
    "m to m+msl / NAP etc."
   ]
  },
  {
   "cell_type": "code",
   "execution_count": 10,
   "metadata": {},
   "outputs": [],
   "source": [
    "results.set_unitdict({'zb':['m+msl']}) "
   ]
  },
  {
   "attachments": {},
   "cell_type": "markdown",
   "metadata": {},
   "source": [
    "### Load the xbeach model set-up"
   ]
  },
  {
   "cell_type": "code",
   "execution_count": 11,
   "metadata": {},
   "outputs": [],
   "source": [
    "results.load_model_setup()"
   ]
  },
  {
   "cell_type": "markdown",
   "metadata": {},
   "source": [
    "### Load XBeach model output"
   ]
  },
  {
   "cell_type": "code",
   "execution_count": 12,
   "metadata": {},
   "outputs": [
    {
     "name": "stdout",
     "output_type": "stream",
     "text": [
      "loading variable zs from file\n",
      "loading variable point_zs from file\n"
     ]
    }
   ],
   "source": [
    "zs = results.load_modeloutput('zs')\n",
    "\n",
    "ny, nx = results.var['globalx'].shape\n",
    "\n",
    "results.load_modeloutput('point_zs')\n",
    "\n",
    "zs = results.get_modeloutput('zs')\n",
    "point_zs = results.get_modeloutput('point_zs')\n",
    "\n",
    "[t, zs] = results.get_modeloutput_by_station('zs','point001')\n",
    "\n",
    "#results.fig_check_tide_bc()"
   ]
  },
  {
   "cell_type": "markdown",
   "metadata": {},
   "source": [
    "### Plotting 2D fields and 1D transects"
   ]
  },
  {
   "cell_type": "code",
   "execution_count": 13,
   "metadata": {},
   "outputs": [
    {
     "name": "stdout",
     "output_type": "stream",
     "text": [
      "loading variable zb from file\n",
      "loading variable H from file\n"
     ]
    },
    {
     "data": {
      "image/png": "[encoded data removed]",
      "text/plain": [
       "<Figure size 432x288 with 2 Axes>"
      ]
     },
     "metadata": {
      "needs_background": "light"
     },
     "output_type": "display_data"
    },
    {
     "data": {
      "image/png": "[encoded data removed]",
      "text/plain": [
       "<Figure size 360x216 with 2 Axes>"
      ]
     },
     "metadata": {
      "needs_background": "light"
     },
     "output_type": "display_data"
    },
    {
     "data": {
      "image/png": "[encoded data removed]",
      "text/plain": [
       "<Figure size 432x288 with 1 Axes>"
      ]
     },
     "metadata": {
      "needs_background": "light"
     },
     "output_type": "display_data"
    }
   ],
   "source": [
    "## change coordinates of plots to local coordinates:\n",
    "#results.set_plot_localcoords(True)\n",
    "## only plot a certain Area Of Interest of the complete grid\n",
    "#results.set_aoi([20,445,20,220])\n",
    "\n",
    "# example usage map plotting\n",
    "fig, ax = results.fig_map_var('zb','[m]', it = 2)\n",
    "\n",
    "#fig, ax = results.fig_map_diffvar('zb', '$\\Delta z_b$ [m]')\n",
    "\n",
    "fig, ax = results.fig_cross_var('H', 2, iy=5, coord=None, plot_ref_bathy=True, zmin=-25)\n",
    "\n",
    "fig, ax = results.fig_profile_change(iy=5)"
   ]
  },
  {
   "cell_type": "markdown",
   "metadata": {},
   "source": [
    "### Print params of xbeach run"
   ]
  },
  {
   "cell_type": "code",
   "execution_count": 14,
   "metadata": {},
   "outputs": [
    {
     "data": {
      "text/plain": [
       "{'wavemodel': 'surfbeat',\n",
       " 'wbctype': 'jonstable',\n",
       " 'vardx': 1.0,\n",
       " 'posdwn': '-1',\n",
       " 'nx': 174.0,\n",
       " 'ny': 180.0,\n",
       " 'xori': 0.0,\n",
       " 'yori': 0.0,\n",
       " 'alfa': 10.0,\n",
       " 'xfile': 'x.grd',\n",
       " 'yfile': 'y.grd',\n",
       " 'depfile': 'bed.dep',\n",
       " 'thetamin': '-90',\n",
       " 'thetamax': 90.0,\n",
       " 'thetanaut': 0.0,\n",
       " 'dtheta': 10.0,\n",
       " 'dtheta_s': 10.0,\n",
       " 'Wavemodel': 'surfbeat',\n",
       " 'morphology': 0.0,\n",
       " 'tstop': 3600.0,\n",
       " 'zs0': 0.0,\n",
       " 'bcfile': 'jonstable.txt',\n",
       " 'nglobalvar': 3.0,\n",
       " 'npointvar': 2.0,\n",
       " 'nmeanvar': 1.0,\n",
       " 'npoints': 4.0,\n",
       " 'globalvar': ['zb', 'zs', 'H'],\n",
       " 'meanvar': ['zb'],\n",
       " 'pointvar': ['zs', 'H'],\n",
       " 'points': {'0': (6.0, 0.0), '': (12.0, 0.0)}}"
      ]
     },
     "execution_count": 14,
     "metadata": {},
     "output_type": "execute_result"
    }
   ],
   "source": [
    "results.params"
   ]
  },
  {
   "cell_type": "code",
   "execution_count": null,
   "metadata": {},
   "outputs": [],
   "source": []
  }
 ],
 "metadata": {
  "kernelspec": {
   "display_name": "Python 3",
   "language": "python",
   "name": "python3"
  },
  "language_info": {
   "codemirror_mode": {
    "name": "ipython",
    "version": 3
   },
   "file_extension": ".py",
   "mimetype": "text/x-python",
   "name": "python",
   "nbconvert_exporter": "python",
   "pygments_lexer": "ipython3",
   "version": "3.8.12"
  }
 },
 "nbformat": 4,
 "nbformat_minor": 4
}
