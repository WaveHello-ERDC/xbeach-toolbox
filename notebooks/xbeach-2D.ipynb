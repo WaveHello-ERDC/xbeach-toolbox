{
 "cells": [
  {
   "cell_type": "markdown",
   "metadata": {},
   "source": [
    "## Model setup XBeach 2D\n",
    "\n",
    "Setup a 1D XBeach model with the Python toolbox "
   ]
  },
  {
   "cell_type": "code",
   "execution_count": 48,
   "metadata": {},
   "outputs": [],
   "source": [
    "import numpy as np\n",
    "from scipy import interpolate\n",
    "import matplotlib.pyplot as plt\n",
    "from mpl_toolkits.mplot3d import axes3d, Axes3D \n",
    "from matplotlib import cm\n",
    "import sys\n",
    "import os"
   ]
  },
  {
   "cell_type": "markdown",
   "metadata": {},
   "source": [
    "Import the toolbox and set the xbeach styleshoot for plotting"
   ]
  },
  {
   "cell_type": "code",
   "execution_count": 49,
   "metadata": {},
   "outputs": [
    {
     "ename": "ModuleNotFoundError",
     "evalue": "No module named 'netCDF4'",
     "output_type": "error",
     "traceback": [
      "\u001b[1;31m---------------------------------------------------------------------------\u001b[0m",
      "\u001b[1;31mModuleNotFoundError\u001b[0m                       Traceback (most recent call last)",
      "\u001b[1;32m<ipython-input-49-83bf879cd91f>\u001b[0m in \u001b[0;36m<module>\u001b[1;34m\u001b[0m\n\u001b[0;32m      2\u001b[0m \u001b[0msys\u001b[0m\u001b[1;33m.\u001b[0m\u001b[0mpath\u001b[0m\u001b[1;33m.\u001b[0m\u001b[0mappend\u001b[0m\u001b[1;33m(\u001b[0m\u001b[0mos\u001b[0m\u001b[1;33m.\u001b[0m\u001b[0mpath\u001b[0m\u001b[1;33m.\u001b[0m\u001b[0mabspath\u001b[0m\u001b[1;33m(\u001b[0m\u001b[0mos\u001b[0m\u001b[1;33m.\u001b[0m\u001b[0mpath\u001b[0m\u001b[1;33m.\u001b[0m\u001b[0mjoin\u001b[0m\u001b[1;33m(\u001b[0m\u001b[1;34m'..'\u001b[0m \u001b[1;33m)\u001b[0m\u001b[1;33m)\u001b[0m\u001b[1;33m)\u001b[0m\u001b[1;33m\u001b[0m\u001b[1;33m\u001b[0m\u001b[0m\n\u001b[0;32m      3\u001b[0m \u001b[1;33m\u001b[0m\u001b[0m\n\u001b[1;32m----> 4\u001b[1;33m \u001b[1;32mfrom\u001b[0m \u001b[0mxbTools\u001b[0m \u001b[1;32mimport\u001b[0m \u001b[0mxgrid\u001b[0m\u001b[1;33m,\u001b[0m \u001b[0mygrid\u001b[0m\u001b[1;33m,\u001b[0m \u001b[0mseaward_extend\u001b[0m\u001b[1;33m,\u001b[0m \u001b[0mXBeachModelSetup\u001b[0m\u001b[1;33m,\u001b[0m \u001b[0moffshore_depth\u001b[0m\u001b[1;33m,\u001b[0m \u001b[0mseaward_extend\u001b[0m\u001b[1;33m,\u001b[0m \u001b[0mlateral_extend\u001b[0m\u001b[1;33m\u001b[0m\u001b[1;33m\u001b[0m\u001b[0m\n\u001b[0m\u001b[0;32m      5\u001b[0m \u001b[0mplt\u001b[0m\u001b[1;33m.\u001b[0m\u001b[0mstyle\u001b[0m\u001b[1;33m.\u001b[0m\u001b[0muse\u001b[0m\u001b[1;33m(\u001b[0m\u001b[0mos\u001b[0m\u001b[1;33m.\u001b[0m\u001b[0mpath\u001b[0m\u001b[1;33m.\u001b[0m\u001b[0mjoin\u001b[0m\u001b[1;33m(\u001b[0m\u001b[1;34m'..'\u001b[0m\u001b[1;33m,\u001b[0m\u001b[1;34m'xbTools'\u001b[0m\u001b[1;33m,\u001b[0m\u001b[1;34m'xb.mplstyle'\u001b[0m\u001b[1;33m)\u001b[0m\u001b[1;33m)\u001b[0m\u001b[1;33m\u001b[0m\u001b[1;33m\u001b[0m\u001b[0m\n",
      "\u001b[1;32md:\\Repositories\\xbeach_toolbox\\xbeach-toolbox-trunk\\xbeach-toolbox\\xbTools\\__init__.py\u001b[0m in \u001b[0;36m<module>\u001b[1;34m\u001b[0m\n\u001b[0;32m      1\u001b[0m \u001b[1;32mfrom\u001b[0m \u001b[1;33m.\u001b[0m\u001b[0mxbeachtools\u001b[0m \u001b[1;32mimport\u001b[0m \u001b[1;33m*\u001b[0m\u001b[1;33m\u001b[0m\u001b[1;33m\u001b[0m\u001b[0m\n\u001b[0;32m      2\u001b[0m \u001b[1;32mfrom\u001b[0m \u001b[1;33m.\u001b[0m\u001b[0mwave_functions\u001b[0m \u001b[1;32mimport\u001b[0m \u001b[1;33m*\u001b[0m\u001b[1;33m\u001b[0m\u001b[1;33m\u001b[0m\u001b[0m\n\u001b[1;32m----> 3\u001b[1;33m \u001b[1;32mfrom\u001b[0m \u001b[1;33m.\u001b[0m\u001b[0mxb_analyse\u001b[0m \u001b[1;32mimport\u001b[0m \u001b[1;33m*\u001b[0m\u001b[1;33m\u001b[0m\u001b[1;33m\u001b[0m\u001b[0m\n\u001b[0m",
      "\u001b[1;32md:\\Repositories\\xbeach_toolbox\\xbeach-toolbox-trunk\\xbeach-toolbox\\xbTools\\xb_analyse.py\u001b[0m in \u001b[0;36m<module>\u001b[1;34m\u001b[0m\n\u001b[0;32m      1\u001b[0m \u001b[1;32mimport\u001b[0m \u001b[0mnumpy\u001b[0m \u001b[1;32mas\u001b[0m \u001b[0mnp\u001b[0m\u001b[1;33m\u001b[0m\u001b[1;33m\u001b[0m\u001b[0m\n\u001b[0;32m      2\u001b[0m \u001b[1;32mimport\u001b[0m \u001b[0mos\u001b[0m\u001b[1;33m\u001b[0m\u001b[1;33m\u001b[0m\u001b[0m\n\u001b[1;32m----> 3\u001b[1;33m \u001b[1;32mimport\u001b[0m \u001b[0mnetCDF4\u001b[0m \u001b[1;32mas\u001b[0m \u001b[0mnc\u001b[0m\u001b[1;33m\u001b[0m\u001b[1;33m\u001b[0m\u001b[0m\n\u001b[0m\u001b[0;32m      4\u001b[0m \u001b[1;32mimport\u001b[0m \u001b[0mmatplotlib\u001b[0m\u001b[1;33m.\u001b[0m\u001b[0mpyplot\u001b[0m \u001b[1;32mas\u001b[0m \u001b[0mplt\u001b[0m\u001b[1;33m\u001b[0m\u001b[1;33m\u001b[0m\u001b[0m\n\u001b[0;32m      5\u001b[0m \u001b[1;32mfrom\u001b[0m \u001b[0mmpl_toolkits\u001b[0m\u001b[1;33m.\u001b[0m\u001b[0maxes_grid1\u001b[0m \u001b[1;32mimport\u001b[0m \u001b[0mmake_axes_locatable\u001b[0m\u001b[1;33m\u001b[0m\u001b[1;33m\u001b[0m\u001b[0m\n",
      "\u001b[1;31mModuleNotFoundError\u001b[0m: No module named 'netCDF4'"
     ]
    }
   ],
   "source": [
    "## import xbeach tools\n",
    "sys.path.append(os.path.abspath(os.path.join('..' )))\n",
    "\n",
    "from xbTools import xgrid, ygrid, seaward_extend, XBeachModelSetup, offshore_depth, seaward_extend, lateral_extend\n",
    "plt.style.use(os.path.join('..','xbTools','xb.mplstyle'))"
   ]
  },
  {
   "cell_type": "markdown",
   "metadata": {},
   "source": [
    "### Data\n",
    "Load and plot the bathymetry data"
   ]
  },
  {
   "cell_type": "code",
   "execution_count": null,
   "metadata": {},
   "outputs": [],
   "source": [
    "## load data\n",
    "bathy = np.loadtxt('..//examples//clean//bathy.dep')\n",
    "\n",
    "\n",
    "## set bathy grid\n",
    "nx = 124\n",
    "ny = 72\n",
    "dx = 5\n",
    "dy = 20\n",
    "\n",
    "x = np.linspace(0,(nx-1)*dx,nx)\n",
    "y = np.linspace(0,(ny-1)*dy,ny)\n",
    "\n",
    "X, Y = np.meshgrid(x,y)\n",
    "\n",
    "## plot\n",
    "plt.figure()\n",
    "plt.pcolor(x,y,bathy)\n",
    "plt.colorbar()\n",
    "plt.xlabel('x [m]')\n",
    "plt.ylabel('y [m]')\n",
    "plt.title('bathy')\n",
    "\n",
    "fig     = plt.figure()\n",
    "ax      = Axes3D(fig)\n",
    "surf    = ax.plot_surface(X, Y, bathy, cmap=cm.coolwarm,  linewidth=0, antialiased=False)\n",
    "plt.xlabel('x [m]')\n",
    "plt.ylabel('y [m]')"
   ]
  },
  {
   "cell_type": "code",
   "execution_count": null,
   "metadata": {},
   "outputs": [],
   "source": []
  },
  {
   "cell_type": "markdown",
   "metadata": {},
   "source": [
    "### Create x-grid\n",
    "Create spatially varying x-grid resolution."
   ]
  },
  {
   "cell_type": "code",
   "execution_count": null,
   "metadata": {},
   "outputs": [],
   "source": [
    "xgr,zgr = xgrid(x, bathy[20,:],dxmin=2)\n",
    "\n",
    "\n",
    "plt.figure()\n",
    "plt.plot(x,bathy[20,:],'-o')\n",
    "plt.plot(xgr,zgr,'.-')\n",
    "plt.legend(['Bathy','xgr'])\n",
    "plt.xlabel('x [m]')\n",
    "plt.ylabel('z [m]')"
   ]
  },
  {
   "cell_type": "markdown",
   "metadata": {},
   "source": [
    "### Create y-grid\n",
    "Create spatially varying y-grid resolution."
   ]
  },
  {
   "cell_type": "code",
   "execution_count": null,
   "metadata": {},
   "outputs": [],
   "source": [
    "ygr = ygrid(y)\n",
    "\n",
    "plt.figure()\n",
    "plt.plot(y[:-1],np.diff(y),'-o')\n",
    "plt.plot(ygr[:-1],np.diff(ygr),'.-')\n",
    "plt.legend(['y','ygr'])\n",
    "plt.xlabel('y [m]')\n",
    "plt.ylabel('dy [m]')"
   ]
  },
  {
   "cell_type": "markdown",
   "metadata": {},
   "source": [
    "### Interpolate\n",
    "Interpolate data to new grid"
   ]
  },
  {
   "cell_type": "code",
   "execution_count": null,
   "metadata": {},
   "outputs": [],
   "source": [
    "f = interpolate.interp2d(x, y, bathy, kind='linear')\n",
    "\n",
    "zgr = f(xgr,ygr)\n",
    "\n",
    "plt.figure()\n",
    "plt.pcolor(xgr,ygr,zgr)\n",
    "plt.xlabel('x [m]')\n",
    "plt.ylabel('y [m]')\n",
    "plt.title('xb bathy')\n",
    "\n",
    "\n",
    "xgr, ygr = np.meshgrid(xgr,ygr)"
   ]
  },
  {
   "cell_type": "markdown",
   "metadata": {},
   "source": [
    "### Seaward extend\n",
    "Extend the grid to the required offshore depth. In this case 20 m with a artifial slope of 1/20."
   ]
  },
  {
   "cell_type": "code",
   "execution_count": null,
   "metadata": {},
   "outputs": [],
   "source": [
    "d_start, slope, Hm0_shoal = offshore_depth(Hm0=9, Tp=15, depth_offshore_profile=abs(bathy[0,0]), depth_boundary_conditions=20)\n",
    "\n",
    "xgr, ygr, zgr = seaward_extend(xgr,ygr,zgr,slope=1/20,depth=-20)\n",
    "\n",
    "plt.figure()\n",
    "plt.pcolor(xgr,ygr,zgr)\n",
    "\n",
    "plt.figure()\n",
    "plt.plot(xgr[:,:].T,zgr[:,:].T)\n",
    "plt.xlabel('x [m]')\n",
    "plt.ylabel('z [m]')"
   ]
  },
  {
   "cell_type": "markdown",
   "metadata": {},
   "source": [
    "### Lateral extend\n",
    "Extend the grid lateral with 5 rows"
   ]
  },
  {
   "cell_type": "code",
   "execution_count": null,
   "metadata": {},
   "outputs": [],
   "source": [
    "xgr,ygr,zgr = lateral_extend(xgr,ygr,zgr,n=5)\n",
    "\n",
    "plt.figure()\n",
    "plt.pcolor(xgr,ygr,zgr)"
   ]
  },
  {
   "cell_type": "markdown",
   "metadata": {},
   "source": [
    "### Create model setup\n",
    "Create the model setup class"
   ]
  },
  {
   "cell_type": "code",
   "execution_count": null,
   "metadata": {},
   "outputs": [],
   "source": [
    "xb_setup = XBeachModelSetup('Test som 1')\n",
    "\n",
    "print(xb_setup)\n",
    "\n",
    "xb_setup.set_grid(xgr,ygr,zgr)\n",
    "\n",
    "#xb_setup.set_waves('jons',{'Hm0':2,'Tp':5,'gammajsp':3.3, 's' : 10000, 'mainang':270,'fnyq':1})\n",
    "xb_setup.set_waves('jonstable',{'Hm0':[1.5, 2, 1.5],'Tp':[4, 5, 4],'gammajsp':[3.3, 3.3, 3.3], 's' : [20,20,20], 'mainang':[270,280, 290],'duration':[3600, 3600, 3600],'dtbc':[1,1,1]})\n",
    "\n",
    "xb_setup.set_params({'Wavemodel':'surfbeat',\n",
    "                     'morphology':0,\n",
    "                     'befriccoef':0.01,\n",
    "                     'tstop':3600,\n",
    "                     'nglobalvar':['zb','zs','H'],\n",
    "                     'npointvar':['zs','H'],\n",
    "                     'nmeanvar':['zb'],\n",
    "                     'npoints':['1 0', '6 0', '10 0', '12 0']})\n",
    "\n",
    "\n",
    "sim_path = os.path.join('xb-2D')\n",
    "if not os.path.exists(sim_path):\n",
    "    os.mkdir(sim_path)\n",
    "xb_setup.write_model(os.path.join(sim_path))"
   ]
  }
 ],
 "metadata": {
  "kernelspec": {
   "display_name": "Python 3",
   "language": "python",
   "name": "python3"
  },
  "language_info": {
   "codemirror_mode": {
    "name": "ipython",
    "version": 3
   },
   "file_extension": ".py",
   "mimetype": "text/x-python",
   "name": "python",
   "nbconvert_exporter": "python",
   "pygments_lexer": "ipython3",
   "version": "3.8.3"
  }
 },
 "nbformat": 4,
 "nbformat_minor": 4
}
