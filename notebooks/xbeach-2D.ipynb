{
 "cells": [
  {
   "attachments": {},
   "cell_type": "markdown",
   "metadata": {},
   "source": [
    "## Model setup XBeach 2D\n",
    "\n",
    "Setup a 1D XBeach model with the Python toolbox "
   ]
  },
  {
   "cell_type": "code",
   "execution_count": 5,
   "metadata": {},
   "outputs": [],
   "source": [
    "import numpy as np\n",
    "from scipy import interpolate\n",
    "import matplotlib.pyplot as plt\n",
    "from mpl_toolkits.mplot3d import axes3d, Axes3D \n",
    "from matplotlib import cm\n",
    "import sys\n",
    "import os"
   ]
  },
  {
   "attachments": {},
   "cell_type": "markdown",
   "metadata": {},
   "source": [
    "Import the toolbox and set the xbeach styleshoot for plotting"
   ]
  },
  {
   "cell_type": "code",
   "execution_count": 6,
   "metadata": {},
   "outputs": [
    {
     "ename": "SyntaxError",
     "evalue": "invalid syntax (xbeachtools.py, line 955)",
     "output_type": "error",
     "traceback": [
      "Traceback \u001b[1;36m(most recent call last)\u001b[0m:\n",
      "\u001b[0m  File \u001b[0;32md:\\Users\\bemc\\AppData\\Local\\pypoetry\\Cache\\virtualenvs\\hm-python-toolbox-4b2-s_D--py3.10\\lib\\site-packages\\IPython\\core\\interactiveshell.py:3442\u001b[0m in \u001b[0;35mrun_code\u001b[0m\n    exec(code_obj, self.user_global_ns, self.user_ns)\u001b[0m\n",
      "\u001b[0m  Cell \u001b[0;32mIn[6], line 4\u001b[0m\n    from xbTools import xgrid, ygrid, seaward_extend, XBeachModelSetup, offshore_depth, seaward_extend, lateral_extend\u001b[0m\n",
      "\u001b[1;36m  File \u001b[1;32md:\\gitlab_folder\\xbeach-toolbox\\xbTools\\__init__.py:1\u001b[1;36m\n\u001b[1;33m    from .xbeachtools import *\u001b[1;36m\n",
      "\u001b[1;36m  File \u001b[1;32md:\\gitlab_folder\\xbeach-toolbox\\xbTools\\xbeachtools.py:955\u001b[1;36m\u001b[0m\n\u001b[1;33m    <<<<<<< Updated upstream\u001b[0m\n\u001b[1;37m    ^\u001b[0m\n\u001b[1;31mSyntaxError\u001b[0m\u001b[1;31m:\u001b[0m invalid syntax\n"
     ]
    }
   ],
   "source": [
    "## import xbeach tools\n",
    "sys.path.append(os.path.abspath(os.path.join('..' )))\n",
    "\n",
    "from xbTools import xgrid, ygrid, seaward_extend, XBeachModelSetup, offshore_depth, seaward_extend, lateral_extend\n",
    "plt.style.use(os.path.join('..','xbTools','xb.mplstyle'))"
   ]
  },
  {
   "attachments": {},
   "cell_type": "markdown",
   "metadata": {},
   "source": [
    "### Data\n",
    "Load and plot the bathymetry data"
   ]
  },
  {
   "cell_type": "code",
   "execution_count": null,
   "metadata": {},
   "outputs": [],
   "source": [
    "## load data\n",
    "bathy = np.loadtxt('..//examples//clean//bathy.dep')\n",
    "\n",
    "\n",
    "## set bathy grid\n",
    "nx = 124\n",
    "ny = 72\n",
    "dx = 5\n",
    "dy = 20\n",
    "\n",
    "x = np.linspace(0,(nx-1)*dx,nx)\n",
    "y = np.linspace(0,(ny-1)*dy,ny)\n",
    "\n",
    "X, Y = np.meshgrid(x,y)\n",
    "\n",
    "## plot\n",
    "plt.figure()\n",
    "plt.pcolor(x,y,bathy)\n",
    "plt.colorbar()\n",
    "plt.xlabel('x [m]')\n",
    "plt.ylabel('y [m]')\n",
    "plt.title('bathy')\n",
    "\n",
    "fig     = plt.figure()\n",
    "ax      = Axes3D(fig)\n",
    "surf    = ax.plot_surface(X, Y, bathy, cmap=cm.coolwarm,  linewidth=0, antialiased=False)\n",
    "plt.xlabel('x [m]')\n",
    "plt.ylabel('y [m]')"
   ]
  },
  {
   "cell_type": "code",
   "execution_count": null,
   "metadata": {},
   "outputs": [],
   "source": []
  },
  {
   "attachments": {},
   "cell_type": "markdown",
   "metadata": {},
   "source": [
    "### Create x-grid\n",
    "Create spatially varying x-grid resolution."
   ]
  },
  {
   "cell_type": "code",
   "execution_count": null,
   "metadata": {},
   "outputs": [],
   "source": [
    "xgr,zgr = xgrid(x, bathy[20,:],dxmin=2)\n",
    "\n",
    "\n",
    "plt.figure()\n",
    "plt.plot(x,bathy[20,:],'-o')\n",
    "plt.plot(xgr,zgr,'.-')\n",
    "plt.legend(['Bathy','xgr'])\n",
    "plt.xlabel('x [m]')\n",
    "plt.ylabel('z [m]')"
   ]
  },
  {
   "attachments": {},
   "cell_type": "markdown",
   "metadata": {},
   "source": [
    "### Create y-grid\n",
    "Create spatially varying y-grid resolution."
   ]
  },
  {
   "cell_type": "code",
   "execution_count": null,
   "metadata": {},
   "outputs": [],
   "source": [
    "ygr = ygrid(y)\n",
    "\n",
    "plt.figure()\n",
    "plt.plot(y[:-1],np.diff(y),'-o')\n",
    "plt.plot(ygr[:-1],np.diff(ygr),'.-')\n",
    "plt.legend(['y','ygr'])\n",
    "plt.xlabel('y [m]')\n",
    "plt.ylabel('dy [m]')"
   ]
  },
  {
   "attachments": {},
   "cell_type": "markdown",
   "metadata": {},
   "source": [
    "### Interpolate\n",
    "Interpolate data to new grid"
   ]
  },
  {
   "cell_type": "code",
   "execution_count": null,
   "metadata": {},
   "outputs": [],
   "source": [
    "f = interpolate.interp2d(x, y, bathy, kind='linear')\n",
    "\n",
    "zgr = f(xgr,ygr)\n",
    "\n",
    "plt.figure()\n",
    "plt.pcolor(xgr,ygr,zgr)\n",
    "plt.xlabel('x [m]')\n",
    "plt.ylabel('y [m]')\n",
    "plt.title('xb bathy')\n",
    "\n",
    "\n",
    "xgr, ygr = np.meshgrid(xgr,ygr)"
   ]
  },
  {
   "attachments": {},
   "cell_type": "markdown",
   "metadata": {},
   "source": [
    "### Seaward extend\n",
    "Extend the grid to the required offshore depth. In this case 20 m with a artifial slope of 1/20."
   ]
  },
  {
   "cell_type": "code",
   "execution_count": null,
   "metadata": {},
   "outputs": [],
   "source": [
    "d_start, slope, Hm0_shoal = offshore_depth(Hm0=9, Tp=15, depth_offshore_profile=abs(bathy[0,0]), depth_boundary_conditions=20)\n",
    "\n",
    "xgr, ygr, zgr = seaward_extend(xgr,ygr,zgr,slope=1/20,depth=-20)\n",
    "\n",
    "plt.figure()\n",
    "plt.pcolor(xgr,ygr,zgr)\n",
    "\n",
    "plt.figure()\n",
    "plt.plot(xgr[:,:].T,zgr[:,:].T)\n",
    "plt.xlabel('x [m]')\n",
    "plt.ylabel('z [m]')"
   ]
  },
  {
   "attachments": {},
   "cell_type": "markdown",
   "metadata": {},
   "source": [
    "### Lateral extend\n",
    "Extend the grid lateral with 5 rows"
   ]
  },
  {
   "cell_type": "code",
   "execution_count": null,
   "metadata": {},
   "outputs": [],
   "source": [
    "xgr,ygr,zgr = lateral_extend(xgr,ygr,zgr,n=5)\n",
    "\n",
    "plt.figure()\n",
    "plt.pcolor(xgr,ygr,zgr)"
   ]
  },
  {
   "attachments": {},
   "cell_type": "markdown",
   "metadata": {},
   "source": [
    "### Create model setup\n",
    "Create the model setup class"
   ]
  },
  {
   "cell_type": "code",
   "execution_count": null,
   "metadata": {},
   "outputs": [],
   "source": [
    "xb_setup = XBeachModelSetup('Test som 1')\n",
    "\n",
    "print(xb_setup)\n",
    "\n",
    "xb_setup.set_grid(xgr,ygr,zgr)\n",
    "xb_setup.set_nebed(np.ones_like(zgr))\n",
    "xb_setup.set_friction(np.ones_like(zgr))\n",
    "\n",
    "#xb_setup.set_waves('jons',{'Hm0':2,'Tp':5,'gammajsp':3.3, 's' : 10000, 'mainang':270,'fnyq':1})\n",
    "xb_setup.set_waves('jonstable',{'Hm0':[1.5, 2, 1.5],'Tp':[4, 5, 4],'gammajsp':[3.3, 3.3, 3.3], 's' : [20,20,20], 'mainang':[270,280, 290],'duration':[3600, 3600, 3600],'dtbc':[1,1,1]})\n",
    "\n",
    "xb_setup.set_params({'Wavemodel':'surfbeat',\n",
    "                     'morphology':0,\n",
    "                     'befriccoef':0.01,\n",
    "                     'tstop':3600,\n",
    "                     'nglobalvar':['zb','zs','H'],\n",
    "                     'npointvar':['zs','H'],\n",
    "                     'nmeanvar':['zb'],\n",
    "                     'npoints':['1 0', '6 0', '10 0', '12 0']})\n",
    "\n",
    "\n",
    "sim_path = os.path.join('xb-2D')\n",
    "if not os.path.exists(sim_path):\n",
    "    os.mkdir(sim_path)\n",
    "xb_setup.write_model(os.path.join(sim_path))"
   ]
  }
 ],
 "metadata": {
  "kernelspec": {
   "display_name": "Python 3",
   "language": "python",
   "name": "python3"
  },
  "language_info": {
   "codemirror_mode": {
    "name": "ipython",
    "version": 3
   },
   "file_extension": ".py",
   "mimetype": "text/x-python",
   "name": "python",
   "nbconvert_exporter": "python",
   "pygments_lexer": "ipython3",
   "version": "3.10.8"
  }
 },
 "nbformat": 4,
 "nbformat_minor": 4
}
