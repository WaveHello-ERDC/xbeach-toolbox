{
 "cells": [
  {
   "cell_type": "markdown",
   "metadata": {},
   "source": [
    "## Model setup XBeach 1D\n",
    "\n",
    "Setup a 1D XBeach model with the Python toolbox"
   ]
  },
  {
   "cell_type": "code",
   "execution_count": 39,
   "metadata": {},
   "outputs": [],
   "source": [
    "import numpy as np\n",
    "from scipy import interpolate\n",
    "import matplotlib.pyplot as plt\n",
    "from mpl_toolkits.mplot3d import axes3d, Axes3D \n",
    "from matplotlib import cm\n",
    "import sys\n",
    "import os"
   ]
  },
  {
   "cell_type": "markdown",
   "metadata": {},
   "source": [
    "Import the toolbox and set the xbeach styleshoot for plotting"
   ]
  },
  {
   "cell_type": "code",
   "execution_count": 40,
   "metadata": {},
   "outputs": [],
   "source": [
    "## import xbeach tools\n",
    "sys.path.append(os.path.abspath(os.path.join('..' )))\n",
    "\n",
    "from xbTools import xgrid, ygrid, seaward_extend, XBeachModelSetup\n",
    "plt.style.use(os.path.join('..','xbTools','xb.mplstyle'))"
   ]
  },
  {
   "cell_type": "markdown",
   "metadata": {},
   "source": [
    "### Data\n",
    "Load and plot the bathymetry data"
   ]
  },
  {
   "cell_type": "code",
   "execution_count": 41,
   "metadata": {},
   "outputs": [
    {
     "data": {
      "text/plain": [
       "Text(0.5, 1.0, 'bathy')"
      ]
     },
     "execution_count": 41,
     "metadata": {},
     "output_type": "execute_result"
    },
    {
     "data": {
      "image/png": "[encoded data removed]",
      "text/plain": [
       "<Figure size 480x480 with 1 Axes>"
      ]
     },
     "metadata": {
      "needs_background": "light"
     },
     "output_type": "display_data"
    }
   ],
   "source": [
    "## load data\n",
    "bathy = np.loadtxt('..//examples//clean//bathy.dep')\n",
    "bathy = bathy[0,:]\n",
    "\n",
    "## set bathy grid\n",
    "nx = 124\n",
    "ny = 72\n",
    "dx = 5\n",
    "dy = 20\n",
    "\n",
    "x = np.linspace(0,(nx-1)*dx,nx)\n",
    "\n",
    "## plot\n",
    "plt.figure()\n",
    "plt.plot(x,bathy)\n",
    "plt.xlabel('x [m]')\n",
    "plt.ylabel('z [m]')\n",
    "plt.title('bathy')"
   ]
  },
  {
   "cell_type": "markdown",
   "metadata": {},
   "source": [
    "### Create x-grid\n",
    "Create spatially varying x-grid resolution."
   ]
  },
  {
   "cell_type": "code",
   "execution_count": 42,
   "metadata": {},
   "outputs": [
    {
     "ename": "NameError",
     "evalue": "name 'dispersion' is not defined",
     "output_type": "error",
     "traceback": [
      "\u001b[1;31m---------------------------------------------------------------------------\u001b[0m",
      "\u001b[1;31mNameError\u001b[0m                                 Traceback (most recent call last)",
      "\u001b[1;32m<ipython-input-42-b6603022e197>\u001b[0m in \u001b[0;36m<module>\u001b[1;34m\u001b[0m\n\u001b[1;32m----> 1\u001b[1;33m \u001b[0mxgr\u001b[0m\u001b[1;33m,\u001b[0m\u001b[0mzgr\u001b[0m \u001b[1;33m=\u001b[0m \u001b[0mxgrid\u001b[0m\u001b[1;33m(\u001b[0m\u001b[0mx\u001b[0m\u001b[1;33m,\u001b[0m \u001b[0mbathy\u001b[0m\u001b[1;33m,\u001b[0m\u001b[0mdxmin\u001b[0m\u001b[1;33m=\u001b[0m\u001b[1;36m2\u001b[0m\u001b[1;33m)\u001b[0m\u001b[1;33m\u001b[0m\u001b[1;33m\u001b[0m\u001b[0m\n\u001b[0m\u001b[0;32m      2\u001b[0m \u001b[1;33m\u001b[0m\u001b[0m\n\u001b[0;32m      3\u001b[0m \u001b[1;33m\u001b[0m\u001b[0m\n\u001b[0;32m      4\u001b[0m \u001b[0mplt\u001b[0m\u001b[1;33m.\u001b[0m\u001b[0mfigure\u001b[0m\u001b[1;33m(\u001b[0m\u001b[1;33m)\u001b[0m\u001b[1;33m\u001b[0m\u001b[1;33m\u001b[0m\u001b[0m\n\u001b[0;32m      5\u001b[0m \u001b[0mplt\u001b[0m\u001b[1;33m.\u001b[0m\u001b[0mplot\u001b[0m\u001b[1;33m(\u001b[0m\u001b[0mx\u001b[0m\u001b[1;33m,\u001b[0m\u001b[0mbathy\u001b[0m\u001b[1;33m,\u001b[0m\u001b[1;34m'-o'\u001b[0m\u001b[1;33m)\u001b[0m\u001b[1;33m\u001b[0m\u001b[1;33m\u001b[0m\u001b[0m\n",
      "\u001b[1;32md:\\Repositories\\xbeach_toolbox\\xbeach-toolbox-trunk\\xbeach-toolbox\\xbTools\\xbeachtools.py\u001b[0m in \u001b[0;36mxgrid\u001b[1;34m(x, z, ppwl, dxmin, dxmax, vardx, wl, eps, Tm, xdry, zdry, dxdry, depthfac, maxfac)\u001b[0m\n\u001b[0;32m    400\u001b[0m \u001b[1;33m\u001b[0m\u001b[0m\n\u001b[0;32m    401\u001b[0m             \u001b[1;32mif\u001b[0m \u001b[0mhgr\u001b[0m\u001b[1;33m[\u001b[0m\u001b[0mi\u001b[0m\u001b[1;33m]\u001b[0m\u001b[1;33m>\u001b[0m\u001b[0meps\u001b[0m\u001b[1;33m:\u001b[0m\u001b[1;33m\u001b[0m\u001b[1;33m\u001b[0m\u001b[0m\n\u001b[1;32m--> 402\u001b[1;33m                 \u001b[0mk\u001b[0m       \u001b[1;33m=\u001b[0m \u001b[0mdispersion\u001b[0m\u001b[1;33m(\u001b[0m\u001b[1;36m2\u001b[0m\u001b[1;33m*\u001b[0m\u001b[0mnp\u001b[0m\u001b[1;33m.\u001b[0m\u001b[0mpi\u001b[0m\u001b[1;33m/\u001b[0m\u001b[0mTm\u001b[0m\u001b[1;33m,\u001b[0m\u001b[0mhgr\u001b[0m\u001b[1;33m[\u001b[0m\u001b[0mi\u001b[0m\u001b[1;33m]\u001b[0m\u001b[1;33m)\u001b[0m\u001b[1;33m\u001b[0m\u001b[1;33m\u001b[0m\u001b[0m\n\u001b[0m\u001b[0;32m    403\u001b[0m                 \u001b[0mLshort\u001b[0m  \u001b[1;33m=\u001b[0m \u001b[1;36m2\u001b[0m\u001b[1;33m*\u001b[0m\u001b[0mnp\u001b[0m\u001b[1;33m.\u001b[0m\u001b[0mpi\u001b[0m\u001b[1;33m/\u001b[0m\u001b[0mk\u001b[0m\u001b[1;33m\u001b[0m\u001b[1;33m\u001b[0m\u001b[0m\n\u001b[0;32m    404\u001b[0m                 \u001b[0mLwave\u001b[0m   \u001b[1;33m=\u001b[0m \u001b[1;36m4\u001b[0m \u001b[1;33m*\u001b[0m \u001b[0mLshort\u001b[0m\u001b[1;33m\u001b[0m\u001b[1;33m\u001b[0m\u001b[0m\n",
      "\u001b[1;31mNameError\u001b[0m: name 'dispersion' is not defined"
     ]
    }
   ],
   "source": [
    "xgr,zgr = xgrid(x, bathy,dxmin=2)\n",
    "\n",
    "\n",
    "plt.figure()\n",
    "plt.plot(x,bathy,'-o')\n",
    "plt.plot(xgr,zgr,'.-')\n",
    "plt.legend(['Bathy','xgr'])\n",
    "plt.xlabel('x [m]')\n",
    "plt.ylabel('z [m]')"
   ]
  },
  {
   "cell_type": "markdown",
   "metadata": {},
   "source": [
    "### Interpolate\n",
    "Interpolate data to new grid"
   ]
  },
  {
   "cell_type": "code",
   "execution_count": null,
   "metadata": {},
   "outputs": [],
   "source": [
    "zgr = np.interp(xgr, x, bathy)\n",
    "\n",
    "plt.figure()\n",
    "plt.plot(x,bathy,'-o')\n",
    "plt.plot(xgr,zgr,'.-')\n",
    "plt.xlabel('x [m]')\n",
    "plt.ylabel('x [m]')\n",
    "plt.title('xb bathy')\n"
   ]
  },
  {
   "cell_type": "markdown",
   "metadata": {},
   "source": [
    "### Seaward extend\n",
    "Extend the grid to the required offshore depth. In this case 20 m with a artifial slope of 1/20."
   ]
  },
  {
   "cell_type": "code",
   "execution_count": null,
   "metadata": {},
   "outputs": [],
   "source": [
    "xgr, ygr, zgr = seaward_extend(xgr,[0],zgr,slope=1/20,depth=-20)\n",
    "\n",
    "\n",
    "\n",
    "plt.figure()\n",
    "plt.plot(xgr.T,zgr[:,:].T)\n",
    "plt.xlabel('x [m]')\n",
    "plt.ylabel('z [m]')\n"
   ]
  },
  {
   "cell_type": "markdown",
   "metadata": {},
   "source": [
    "### Create model setup\n",
    "Create the model setup class"
   ]
  },
  {
   "cell_type": "code",
   "execution_count": null,
   "metadata": {},
   "outputs": [],
   "source": [
    "xb_setup = XBeachModelSetup('Test som 2')\n",
    "\n",
    "print(xb_setup)"
   ]
  },
  {
   "cell_type": "markdown",
   "metadata": {},
   "source": [
    "Add the grid, wave boundary conditions and parameter to the model"
   ]
  },
  {
   "cell_type": "code",
   "execution_count": null,
   "metadata": {},
   "outputs": [],
   "source": [
    "xb_setup.set_grid(xgr,None,zgr)\n",
    "\n",
    "xb_setup.set_waves('params',{'Hm0':2,'Tp':5,'gammajsp':3.3, 's' : 10000, 'mainang':270,'fnyq':1})\n",
    "#xb_setup.set_waves('jonstable',{'Hm0':[1.5, 2, 1.5],'Tp':[4, 5, 4],'gammajsp':[3.3, 3.3, 3.3], 's' : [20,20,20], 'mainang':[270,280, 290],'duration':[3600, 3600, 3600],'dtbc':[1,1,1]})\n",
    "\n",
    "\n",
    "xb_setup.set_params({'Wavemodel':'surfbeat',\n",
    "                     'morphology':0,\n",
    "                     'befriccoef':0.01,\n",
    "                     'tstop':3600,\n",
    "                     'nglobalvar':['zb','zs','H'],\n",
    "                     'npointvar':['zs','zb'],\n",
    "                     'nmeanvar':['zb'],\n",
    "                     'npoints':['1 0', '6 0', '10 0', '12 0']})"
   ]
  },
  {
   "cell_type": "markdown",
   "metadata": {},
   "source": [
    "Write the model setup"
   ]
  },
  {
   "cell_type": "code",
   "execution_count": null,
   "metadata": {},
   "outputs": [],
   "source": [
    "sim_path = os.path.join('xb-1D')\n",
    "if not os.path.exists(sim_path):\n",
    "    os.mkdir(sim_path)\n",
    "xb_setup.write_model(sim_path)"
   ]
  },
  {
   "cell_type": "markdown",
   "metadata": {},
   "source": []
  },
  {
   "cell_type": "code",
   "execution_count": null,
   "metadata": {},
   "outputs": [],
   "source": []
  }
 ],
 "metadata": {
  "kernelspec": {
   "display_name": "Python 3",
   "language": "python",
   "name": "python3"
  },
  "language_info": {
   "codemirror_mode": {
    "name": "ipython",
    "version": 3
   },
   "file_extension": ".py",
   "mimetype": "text/x-python",
   "name": "python",
   "nbconvert_exporter": "python",
   "pygments_lexer": "ipython3",
   "version": "3.8.3"
  }
 },
 "nbformat": 4,
 "nbformat_minor": 5
}
